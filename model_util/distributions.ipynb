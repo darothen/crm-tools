{
 "metadata": {
  "name": "",
  "signature": "sha256:494d3fb50644cacbbf5d62fc5728269b77dcbcb29583a5b67e800cc9515f57ac"
 },
 "nbformat": 3,
 "nbformat_minor": 0,
 "worksheets": [
  {
   "cells": [
    {
     "cell_type": "code",
     "collapsed": false,
     "input": [
      "import numpy as np\n",
      "import pandas as pd"
     ],
     "language": "python",
     "metadata": {},
     "outputs": [],
     "prompt_number": 1
    },
    {
     "cell_type": "code",
     "collapsed": false,
     "input": [
      "%pylab inline"
     ],
     "language": "python",
     "metadata": {},
     "outputs": [
      {
       "output_type": "stream",
       "stream": "stdout",
       "text": [
        "Populating the interactive namespace from numpy and matplotlib\n"
       ]
      }
     ],
     "prompt_number": 2
    },
    {
     "cell_type": "markdown",
     "metadata": {},
     "source": [
      "Playing with hydrometeor distributions in the CRM.\n",
      "---\n",
      "\n",
      "Each hydrometeor category has a distinct spectrum, $$dN = N_0 D^b e^{-\\lambda D} dD$$ where $N_0$ and $\\lambda$ are parameters that can be explicitly derived as a function of $Q$ and $N$ by integrating over the spectrum of sizes in the category. Specifically,\n",
      "\n",
      "$$ \n",
      "N_0 = \\frac{N\\lambda^{b+1}}{\\Gamma(b+1)},\\quad\\text{and}\\quad\n",
      "\\lambda = \\left(\\frac{A_m\\cdot\\Gamma(b + \\alpha + 1)\\cdot N}{\\Gamma(b+1) \\cdot Q}\\right)^{1/\\alpha}\n",
      "$$\n",
      "\n",
      "Note that in the `MIMICA` documentation, $\\alpha \\rightarrow \\beta_m$ and $b \\rightarrow \\alpha$. This new convention aactually makes much more sense, but the original convention will be retained for compatibility with the original model documentation and papers. Also, this is the \"gamma distribution\" (not modified, not complete) of the form (2.28) in Straka's textbook ($\\mu = \\alpha = 1$), with $b \\rightarrow \\nu+1$ and $\\lambda \\rightarrow 1/D_n$.\n",
      "\n",
      "Some definitions:\n",
      "\n",
      "- $D$: diameter of liquid-phase droplets and max linear dimension of ice-phase particles\n",
      "- $b$: a constant for each water category\n",
      "- $\\Gamma(x)$: the gamma function, $\\Gamma(n) = (n-1)!$ for $n \\in \\mathbb{Z}$. useful to stash away knowledge that $\\Gamma(x+1) = x\\Gamma(x)$\n",
      "\n",
      "An empirical relationship between mass and diameter of the particles in a actegory is given by $$ M = A_m D^\\alpha $$ where $M$ is the mass and $D$ is the diameter of the particles, and $A_m$ and $\\alpha$ are coefficients. Byt this relationship, $A_m$ must have the units kg/m$^\\alpha$ This power law actually provides the basis for the moments $N$ and $Q$, such that\n",
      "\n",
      "$$\n",
      "N = \\int\\limits_0^{\\infty} f(D)dD,\\quad\\text{and}\\quad\n",
      "Q = \\int\\limits_0^{\\infty}M f(D)dD\n",
      "$$\n",
      "\n",
      "with the simple relationship that $f(D) = \\frac{dN}{dD}$, the size spectrum defined previously. \n",
      "\n",
      "<table>\n",
      "    <tr>\n",
      "        <th></th>\n",
      "        <th>Cloud</th>\n",
      "        <th>Rain</th>\n",
      "        <th>Ice</th>\n",
      "        <th>Plate</th>\n",
      "        <th>Bullet</th>\n",
      "        <th>Snow</th>\n",
      "        <th>Graupel</th>\n",
      "    </tr>    \n",
      "    <tr>\n",
      "        <td>$b$</td>\n",
      "        <td>2</td> \n",
      "        <td>0</td>\n",
      "        <td>1</td>\n",
      "        <td></td>\n",
      "        <td></td>\n",
      "        <td>1</td>\n",
      "        <td>0</td>\n",
      "    </tr>\n",
      "    <tr>\n",
      "        <td>$\\alpha$</td>\n",
      "        <td>3</td> \n",
      "        <td>3</td>\n",
      "        <td>2</td>\n",
      "        <td>2</td>\n",
      "        <td>2</td>\n",
      "        <td>2</td>\n",
      "        <td>3</td>\n",
      "    </tr>\n",
      "    <tr>\n",
      "        <td>$A_m$</td>\n",
      "        <td>523.6</td>\n",
      "        <td>523.6</td>\n",
      "        <td>0.01</td>\n",
      "        <td>0.0358</td>\n",
      "        <td>0.022</td>\n",
      "        <td>0.04</td>\n",
      "        <td>65.0</td>\n",
      "    </tr>\n",
      "</table>\n",
      "\n",
      "In the CRM, lambda is always computed th the %qx and %nx fields of the hydrometeor type. The units on these fields are kg/kg and 1/kg, respectively. Thus, "
     ]
    },
    {
     "cell_type": "code",
     "collapsed": false,
     "input": [
      "params = {\n",
      "    # name = [alpha, b, Am]\n",
      "    \"c\" : [3, 2, 523.6],\n",
      "    \"r\" : [3, 0, 523.6],\n",
      "    \"i\" : [2, 1, 0.0358],\n",
      "    \"b\" : [2, 1, 0.022],\n",
      "    \"p\" : [2, 1, 0.0358],\n",
      "    \"s\" : [2, 1, 0.04],\n",
      "    \"g\" : [3, 0, 65.0],\n",
      "}"
     ],
     "language": "python",
     "metadata": {},
     "outputs": [],
     "prompt_number": 15
    },
    {
     "cell_type": "code",
     "collapsed": false,
     "input": [
      "from scipy.special import gamma as gamma\n",
      "\n",
      "class dist(object):\n",
      "    \n",
      "    def __init__(self, Q, N, alpha, b, Am):\n",
      "        self.Q = Q # kg/kg\n",
      "        self.N = N #  1/kg\n",
      "        self.alpha = alpha\n",
      "        self.b = b\n",
      "        self.Am = Am\n",
      "        \n",
      "        ## Compute N0, lam to close distribution\n",
      "        self.lam = calc_lambda(self.Q, self.N, self.alpha, self.b, self.Am)\n",
      "        self.N0 = calc_N0(self.Q, self.N, self.alpha, self.b, self.Am, \n",
      "                          self.lam)\n",
      "        \n",
      "    @staticmethod\n",
      "    def calc_lambda(Q, N, alpha, b, Am):\n",
      "        return ((Am*gamma(alpha + b + 1)*N)/(gamma(b + 1)*Q))**(1./alpha)\n",
      "    \n",
      "    @staticmethod\n",
      "    def calc_N0(Q, N, alpha, b, Am, lam=None):\n",
      "        if not lam:\n",
      "            lam = dist.calc_lambda(Q, N, alpha, b, Am)\n",
      "        return N*(lam**(b + 1))/gamma(b + 1)\n",
      "\n",
      "    def f(D):\n",
      "        \"\"\" f(D) = dN/dD = N0 * D**alpha * e**(-lambda*D) \"\"\"\n",
      "        return self.N0*(D**self.alpha)*np.exp(-self.lam*D)"
     ],
     "language": "python",
     "metadata": {},
     "outputs": [],
     "prompt_number": 16
    },
    {
     "cell_type": "markdown",
     "metadata": {},
     "source": [
      "---\n",
      "\n",
      "Plot distributions of parameters from a sample data file\n"
     ]
    },
    {
     "cell_type": "code",
     "collapsed": false,
     "input": [
      "import netCDF4 as nc\n",
      "#import seaborn as sns\n",
      "\n",
      "data_master = nc.Dataset(\"../squalls_2d/run99/squall_master.nc\", \"r\")\n",
      "data_analyzed = nc.Dataset(\"../squalls_2d/run99/squall_analyzed.nc\", \"r\")\n",
      "\n"
     ],
     "language": "python",
     "metadata": {},
     "outputs": [],
     "prompt_number": 19
    },
    {
     "cell_type": "code",
     "collapsed": false,
     "input": [
      "def proc(data, names):\n",
      "    data_dict = {}\n",
      "    for d, n in zip(data, names):\n",
      "        d = pd.Series(d.ravel()[::50], name=n)\n",
      "        data_dict[n] = d\n",
      "    df = pd.DataFrame(data_dict)\n",
      "    df.dropna(inplace=True)\n",
      "    return df\n",
      "\n",
      "## Derive density\n",
      "Rd, Cp, ps = 287., 1004., 1e5\n",
      "pi = data.variables[\"P\"][:]\n",
      "p = ps*(pi**(Cp/Rd)) # pressure in Pa\n",
      "t = data.variables[\"T\"][:] # temperature in K\n",
      "Tv = t*(1. + 0.61*data.variables['QV'][:])\n",
      "rho = p/(Rd*Tv) # density in kg/m^3\n",
      "\n",
      "print data.variables['QR']\n",
      "\n",
      "qr = data.variables[\"QR\"][-2, 2:60, 0, 100:900]*1e-3 # g/kg -> kg/kg\n",
      "nr = data.variables[\"NR\"][-2, 2:60, 0, 100:900]      # 1/L\n",
      "\n",
      "qr = np.ma.masked_outside(qr, 0, 100.)\n",
      "nr = np.ma.masked_outside(nr, 0, 50000.)\n",
      "\n",
      "df = proc([qr, nr], [\"qr\", \"nr\"])\n",
      "\n",
      "print len(df)"
     ],
     "language": "python",
     "metadata": {},
     "outputs": [
      {
       "output_type": "stream",
       "stream": "stdout",
       "text": [
        "<type 'netCDF4.Variable'>\n",
        "float32 QR(time, zc, yc, xc)\n",
        "    _FillValue: -9999.0\n",
        "    units: g/kg\n",
        "    long_name: rain mixing ratio\n",
        "unlimited dimensions: \n",
        "current shape = (540, 80, 1, 500)\n",
        "filling on\n",
        "464\n"
       ]
      }
     ],
     "prompt_number": 17
    },
    {
     "cell_type": "markdown",
     "metadata": {},
     "source": [
      "###Radar Reflectivity###\n",
      "\n",
      "It is useful to diagnose radar reflectivity from the hydrometeor population to visualize the structure of storms. Reflectivity, $Z_e$, is related to the sixth moment of the size distribution. For our gamma distribution, we may write $$Z_e = N \\lambda^{-6}\\frac{\\Gamma(6 + (b+1))}{\\Gamma(b+1)}$$\n",
      "\n",
      "Asssume we have $N$ in number concentration, $Q$ in mixing ratio, and we know the density of the air, $\\rho$. Then, for a given hydrometeor population, \n",
      "\n",
      "$$ Z_e = \\frac{\\chi}{(A_m \\eta)^{6/\\alpha}}(Q\\cdot\\rho)^{6/\\alpha}N^{1-6/\\alpha} $$\n",
      "\n",
      "where with the aid of the Gamma function identities we have written \n",
      "$$\n",
      "\\chi = \\prod\\limits_{i=0}^{6-1} (i+b+1),\\quad\\text{and}\\quad\n",
      "\\eta = \\prod\\limits_{i=0}^{\\alpha-1} (i+b+1)\n",
      "$$\n",
      "\n",
      "It is import to appropriately include the $\\rho$ term; if $Q$ and $N$ have consistent units (that is, they are *both* concentrations relative to mass or volume of air), then the $\\rho$ term is not needed. This is why all the microphysical calculations requiring calculation of $\\lambda$ in the model can get away with using the naive %qx and %nx stored data - they are both mixing ratios with respect to mass of air. We typically scale this to have the units mm$^6$m$^{-3}$, and report reflectivity relative to a standard, $$ \\text{dBZ} = 10\\log{Z_e} $$"
     ]
    },
    {
     "cell_type": "code",
     "collapsed": false,
     "input": [
      "alpha, b, Am = params['p']\n",
      "print \"alpha: \", alpha\n",
      "print \"    b: \", b\n",
      "print \"   Am: \", Am\n",
      "eta = 1.\n",
      "print \"Eta calculation:\"\n",
      "for i in xrange(0, alpha):\n",
      "    print \"   (%d + b + 1)\" % i\n",
      "    eta = eta*(i + b + 1.)\n",
      "print eta\n",
      "print eta*gamma(b+1), gamma(alpha+b+1)\n",
      "    \n",
      "chi = 1.\n",
      "print \"Chi calculation:\"\n",
      "for i in xrange(0, 6):\n",
      "    print \"   (%d + b)\" % i\n",
      "    chi = chi*(i + b + 1)\n",
      "print chi\n",
      "print chi*gamma(b+1), gamma(b+6+1)\n",
      "print \"--\"*20\n",
      "print \"6/alpha = \", 6./alpha\n",
      "print \"Q**%1d x N**(%1d)\" % (6./alpha, 1 - 6./alpha)\n",
      "print \"prefact = \", chi*((1./eta/Am)**(6./alpha))"
     ],
     "language": "python",
     "metadata": {},
     "outputs": [
      {
       "output_type": "stream",
       "stream": "stdout",
       "text": [
        "alpha:  2\n",
        "    b:  1\n",
        "   Am:  0.0358\n",
        "Eta calculation:\n",
        "   (0 + b + 1)\n",
        "   (1 + b + 1)\n",
        "6.0\n",
        "6.0 6.0\n",
        "Chi calculation:\n",
        "   (0 + b)\n",
        "   (1 + b)\n",
        "   (2 + b)\n",
        "   (3 + b)\n",
        "   (4 + b)\n",
        "   (5 + b)\n",
        "5040.0\n",
        "5040.0 5040.0\n",
        "----------------------------------------\n",
        "6/alpha =  3.0\n",
        "Q**3 x N**(-2)\n",
        "prefact =  508543.028872\n"
       ]
      }
     ],
     "prompt_number": 18
    },
    {
     "cell_type": "code",
     "collapsed": false,
     "input": [
      "8.**3 ==  (2.**9)"
     ],
     "language": "python",
     "metadata": {},
     "outputs": [
      {
       "metadata": {},
       "output_type": "pyout",
       "prompt_number": 39,
       "text": [
        "True"
       ]
      }
     ],
     "prompt_number": 39
    },
    {
     "cell_type": "code",
     "collapsed": false,
     "input": [],
     "language": "python",
     "metadata": {},
     "outputs": []
    }
   ],
   "metadata": {}
  }
 ]
}