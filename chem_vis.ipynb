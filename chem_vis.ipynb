{
 "metadata": {
  "name": "",
  "signature": "sha256:100965b87410de7b389135da63b6c71118baf0fb13b073f90065e3f95c68eb30"
 },
 "nbformat": 3,
 "nbformat_minor": 0,
 "worksheets": [
  {
   "cells": [
    {
     "cell_type": "markdown",
     "metadata": {},
     "source": [
      "Read archived chemistry profiles from CRM repository."
     ]
    },
    {
     "cell_type": "code",
     "collapsed": false,
     "input": [
      "import numpy as np\n",
      "import pandas as pd\n",
      "import model_util.crm_io as cio\n",
      "\n",
      "import os, sys\n",
      "data_dir = lambda s: os.path.join(\"/Users/daniel/workspace/crm71_dev/DATA\", s)"
     ],
     "language": "python",
     "metadata": {},
     "outputs": [],
     "prompt_number": 2
    },
    {
     "cell_type": "code",
     "collapsed": false,
     "input": [
      "%matplotlib inline\n",
      "import matplotlib.pyplot as plt"
     ],
     "language": "python",
     "metadata": {},
     "outputs": [],
     "prompt_number": 3
    },
    {
     "cell_type": "markdown",
     "metadata": {},
     "source": [
      "---"
     ]
    },
    {
     "cell_type": "code",
     "collapsed": false,
     "input": [
      "fn = data_dir(\"CHEMINIT_32_sterao-new\")\n",
      "nz = 50\n",
      "gas = cio.read_initial_chem(fn, nz)\n",
      "\n",
      "levels = [n for n in range(0, nz)]\n",
      "\n",
      "# all concentrations in ppb(m)\n",
      "gas = pd.DataFrame(gas_data, \n",
      "                   columns=[\"o3\", \"co\", \"zco2\", \"ho\", \"ho2\", \"h2o2\", \"xno\",\n",
      "                            \"xno3\", \"xn2o5\", \"hno3\", \"ch4\", \"ch2o\", \n",
      "                            \"ch3o2h\", \"so2\", \"h2so4\", \"dms\"])\n",
      "gas['levels'] = levels\n",
      "gas.plot(\"so2\", \"levels\")\n"
     ],
     "language": "python",
     "metadata": {},
     "outputs": [
      {
       "metadata": {},
       "output_type": "pyout",
       "prompt_number": 28,
       "text": [
        "<matplotlib.axes.AxesSubplot at 0x107ead790>"
       ]
      },
      {
       "metadata": {},
       "output_type": "display_data",
       "png": "[encoded data removed]",
       "text": [
        "<matplotlib.figure.Figure at 0x107b5bc10>"
       ]
      }
     ],
     "prompt_number": 28
    },
    {
     "cell_type": "code",
     "collapsed": false,
     "input": [],
     "language": "python",
     "metadata": {},
     "outputs": [],
     "prompt_number": 4
    }
   ],
   "metadata": {}
  }
 ]
}