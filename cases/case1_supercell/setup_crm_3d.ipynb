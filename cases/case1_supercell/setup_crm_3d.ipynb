{
 "metadata": {
  "name": ""
 },
 "nbformat": 3,
 "nbformat_minor": 0,
 "worksheets": [
  {
   "cells": [
    {
     "cell_type": "code",
     "collapsed": false,
     "input": [
      "%pylab inline\n",
      "import sys\n",
      "sys.path.append(\"/Users/daniel/workspace/Research/crm_tools_new/vis\")"
     ],
     "language": "python",
     "metadata": {},
     "outputs": [
      {
       "output_type": "stream",
       "stream": "stdout",
       "text": [
        "Populating the interactive namespace from numpy and matplotlib\n"
       ]
      },
      {
       "output_type": "stream",
       "stream": "stderr",
       "text": [
        "WARNING: pylab import has clobbered these variables: ['f']\n",
        "`%pylab --no-import-all` prevents importing * from pylab and numpy\n"
       ]
      }
     ],
     "prompt_number": 19
    },
    {
     "cell_type": "markdown",
     "metadata": {},
     "source": [
      "## Setup CRM - 2D Version\n",
      "\n",
      "---\n",
      "\n",
      "This notebook is designed to quickly setup the initial conditions necessary to run the CRM. It will create the namelist files and some basic analysis plots of the soundings used to initialize the model. Then, it will copy the files in place as well as to the model run directory. The following set of cells will automate the setup and visual inspection of initial conditions for Chien's cloud-resolving model. For now, it is assumed that a homogeneous profile will be applied to the entire model domain.\n",
      "\n",
      "---\n",
      "\n",
      "__2D CRM__"
     ]
    },
    {
     "cell_type": "code",
     "collapsed": false,
     "input": [
      "CASENAME = \"supercell\"\n",
      "CASEDIR = \".\"\n",
      "\n",
      "## Domain and sounding info\n",
      "nx, ny, nz = 40, 40, 50\n",
      "sounding_filename = \"kuhlman2006.snd\"\n",
      "\n",
      "namelist = {\n",
      "    ## Case settings\n",
      "    \"casename\"      : CASENAME,\n",
      "    #\"homedir\"       : \"/Users/daniel/workspace/crm71_dev\",\n",
      "    \"file_init\"     : '%s_init' % CASENAME,\n",
      "    \"file_rktbl\"    : 'rktable32.dat',\n",
      "    \"file_cheminit\" : 'CHEMINIT_40_blank', \n",
      "            \n",
      "    ## Time steps\n",
      "    \"dt\"   : 2.0, # basic model time step (seconds)\n",
      "    \"dtau\" : 0.2, # small time step for sound waves (seconds)\n",
      "    \"ds\"   : 2.0, # time step for xxx (seconds)\n",
      "    \n",
      "    ## Resume control\n",
      "    \"nresume\" : 0, # 0 = new run with one time field init data;\n",
      "                   # 1 = start a run with two time field init data/apply disturbance\n",
      "                   # 2 = resume a run with two time field init data\n",
      "    \n",
      "    ## Start point in step\n",
      "    \"nstart\" : 1,\n",
      "    \n",
      "    ## Start time in 24 hour base:\n",
      "    # The main program will convert to seconds, e.g.\n",
      "    # start_in_s = 12.0 -> 43200 s (12 hours -> 43200 s)\n",
      "    \"start_in_s\" : 12.0,\n",
      "    \n",
      "    ## Integration length:\n",
      "    \"nstop\" : 6, # 24 if nresume == 0; 120 when nresume == 1\n",
      "    \"nunit\" : 3600, # 3600: hour\n",
      "                    # 60: minute\n",
      "                    # dt: step\n",
      "    \n",
      "    ## Frequency of output data in step:\n",
      "    \"iax\" : -2,\n",
      "    \n",
      "    ## Radiation calculation frequency:\n",
      "    # example: 60 would be every 5 minutes if dt = 5 seconds\n",
      "    # set to negative int or 0 to close radiation call\n",
      "    \"iradx\" : 100, \n",
      "    \n",
      "    ## Chemistry Package\n",
      "    #\"if_chem\" : 1, # obsolete\n",
      "    # Rxn calculation frequency in steps\n",
      "    # (e.g. 6 would be every 30 seconds in 5 sec time step)\n",
      "    \"i_creact\" : 6,\n",
      "    \n",
      "    ## Dimensions\n",
      "    \"ndims\" : 3,   # numbe2r of dimensions\n",
      "    \"dx\" : 1000.0, # x-width in meters\n",
      "    \"dy\" : 1000.0, # y-width in meters\n",
      "    \"dz\" : 500.0,  # height in meters\n",
      "    \n",
      "    ## Thickness of top damping layer\n",
      "    # normally can be set to 5000(m)/dz(m)\n",
      "    \"kdamp\" : 10,\n",
      "    \n",
      "    ## LBC parameters\n",
      "    \"eps\" : 0.0, # relaxation coefficient\n",
      "    \"if_lbcdamp\" : 0, # if > 0, tau = dx/C = n in seconds\n",
      "    #\"if_plbc\" : 0, # periodic lbc option; obsolete\n",
      "    \n",
      "    ## Initial wind adjustments\n",
      "    \"u0shift\" : 0.0, # m/s\n",
      "    \"v0shift\" : 0.0, # m/s\n",
      "    \n",
      "    ## Minimum K for wind/scalar\n",
      "    # reference: fkmin_u = 25.0, fkmin_s = 3.*fkmin_u\n",
      "    \"fkmin_u\" : 25.0,\n",
      "    \"fkmin_s\" : 75.0,\n",
      "    \n",
      "    ## Warm cloud?\n",
      "    \"nwarm\" : 0, # 1 = warm, 0 = cold\n",
      "    \n",
      "    ## Go forward one step after smoothing?\n",
      "    \"nsmooth\" : 1, # 1 = go one step forward, 0 = don't\n",
      "    \n",
      "    ## CCN and IN parameters\n",
      "    \"xnc0_c\"  : 100.0e6,  # CCN nucleation constant C in CCN 1/kg\n",
      "    \"xnc0_k\"  : 0.5,     # CCN nucleation constant k (0.7 for maritime, 0.5 for cont)\n",
      "    \"xn_ccn0\" : 500.0e6, # sfc or max CCN concentration (1/kg)\n",
      "    \"xn_in0\"  : 100.0e3, # sfc or max IN concentration (1/kg)\n",
      "    \n",
      "    ## Filter\n",
      "    \"if_filter\" : -2, # if > 0, apply filter per n(dt) steps, e.g. 12\n",
      "    \n",
      "    ## Solar radiation\n",
      "    \"j_day\" : 115, # day of the year from 1 to 365\n",
      "    \"ctr_lat\" : 45.0, # latitude at center of model domain, from -90 to 90\n",
      "    \n",
      "    ## Initial perturbation\n",
      "    \"nbulb\" : 1, # 1 = use bulb, 0 = don't\n",
      "    \"dptil\" : 3.0, # max init perturbation of temperature in degree\n",
      "    \"dqv\" : 0.9, # max init perturbation of water vapor mixing ratio in %-age\n",
      "    \"mx\"  : 6,\n",
      "    \"mx1\" : 4,\n",
      "    \"mx2\" : 4,\n",
      "    \"ioe\" : 2,\n",
      "    \"my\"  : 6,\n",
      "    \"my1\" : 4,\n",
      "    \"my2\" : 4,\n",
      "    \"joe\" : 2,\n",
      "    \"mz\"  : 6,\n",
      "    \"mz1\" : 3,\n",
      "    \"mz2\" : 3,\n",
      "    \"koe\" : 2,\n",
      "}"
     ],
     "language": "python",
     "metadata": {},
     "outputs": [],
     "prompt_number": 1
    },
    {
     "cell_type": "code",
     "collapsed": false,
     "input": [
      "## Write namelist\n",
      "\n",
      "nl_order = [\"dt\", \"dtau\", \"ds\", \"nresume\", \"nstart\", \"start_in_s\", \"nstop\",\n",
      "            \"nunit\", \"iax\", \"iradx\", \"i_creact\", \"ndims\", \"dx\", \"dy\", \"dz\",\n",
      "            \"kdamp\", \"eps\", \"if_lbcdamp\", \"u0shift\", \"v0shift\", \"fkmin_u\",\n",
      "            \"fkmin_s\", \"nwarm\", \"nsmooth\", \"xnc0_c\", \"xnc0_k\", \"xn_ccn0\",\n",
      "            \"xn_in0\", \"if_filter\", \"nbulb\", \"dptil\", \"dqv\", \"mx\", \"mx1\", \n",
      "            \"mx2\", \"ioe\", \"my\", \"my1\", \"my2\", \"joe\", \"mz\", \"mz1\", \"mz2\",\n",
      "            \"koe\", \"j_day\", \"ctr_lat\", \"casename\", \"file_init\",\n",
      "            \"file_rktbl\", \"file_cheminit\"]\n",
      "\n",
      "namelist_fn = \"cm%1dd.nml\" % namelist['ndims']\n",
      "with open(namelist_fn, \"w\") as f:\n",
      "    f.write(\"$cm_in \\n\")\n",
      "    for key in nl_order:\n",
      "        value = namelist[key]\n",
      "        f.write(\"   %-13s = %r \\n\" % (key, value))\n",
      "    f.write(\"$END \\n\")\n",
      "print namelist_fn"
     ],
     "language": "python",
     "metadata": {},
     "outputs": [
      {
       "output_type": "stream",
       "stream": "stdout",
       "text": [
        "cm3d.nml\n"
       ]
      }
     ],
     "prompt_number": 2
    },
    {
     "cell_type": "markdown",
     "metadata": {},
     "source": [
      "---\n",
      "\n",
      "####Thermodynamic soundings/profiles\n",
      "\n",
      "Has already been taken care of by the routine in `make_sounding.ipynb`"
     ]
    },
    {
     "cell_type": "markdown",
     "metadata": {},
     "source": [
      "---\n",
      "\n",
      "#### Chemistry profiles"
     ]
    },
    {
     "cell_type": "code",
     "collapsed": false,
     "input": [
      "## Set up empty profiles\n",
      "gas = np.zeros([nz, 17])\n",
      "print \"writing\", namelist[\"file_cheminit\"]\n",
      "\n",
      "from aux import write_initial_chem, read_initial_chem\n",
      "write_initial_chem(namelist['file_cheminit'], gas)\n",
      "#read_initial_chem(namelist['file_cheminit'], nz)"
     ],
     "language": "python",
     "metadata": {},
     "outputs": [
      {
       "output_type": "stream",
       "stream": "stdout",
       "text": [
        "writing CHEMINIT_40_blank\n"
       ]
      }
     ],
     "prompt_number": 3
    },
    {
     "cell_type": "markdown",
     "metadata": {},
     "source": [
      "---\n",
      "\n",
      "Copy files "
     ]
    },
    {
     "cell_type": "code",
     "collapsed": false,
     "input": [
      "file_init = namelist['file_init']\n",
      "chem_init = namelist['file_cheminit']\n",
      "start_file = \"start_supercell\"\n",
      "\n",
      "print file_init, chem_init, namelist_fn, start_file"
     ],
     "language": "python",
     "metadata": {},
     "outputs": [
      {
       "output_type": "stream",
       "stream": "stdout",
       "text": [
        "supercell_init CHEMINIT_40_blank cm3d.nml start_supercell\n"
       ]
      }
     ],
     "prompt_number": 4
    },
    {
     "cell_type": "code",
     "collapsed": false,
     "input": [
      "%%bash -s \"$file_init\" \"$chem_init\" \"$namelist_fn\" \"$start_file\"\n",
      "\n",
      "echo $1 $2 $3 $4\n",
      "\n",
      "#CRM_HOME=\"/Users/daniel/workspace/crm71_dev/\"\n",
      "CRM_HOME=\"/Volumes/legion_home/models/crm71/\"\n",
      "\n",
      "cp \"$1\" \"${CRM_HOME}/DATA/\"\n",
      "cp \"$2\" \"${CRM_HOME}/DATA/\"\n",
      "cp \"$3\" \"${CRM_HOME}/INCLUDE/\"\n",
      "cp \"$4\" \"${CRM_HOME}\""
     ],
     "language": "python",
     "metadata": {},
     "outputs": [
      {
       "output_type": "stream",
       "stream": "stdout",
       "text": [
        "supercell_init CHEMINIT_40_blank cm3d.nml start_supercell\n"
       ]
      }
     ],
     "prompt_number": 5
    }
   ],
   "metadata": {}
  }
 ]
}